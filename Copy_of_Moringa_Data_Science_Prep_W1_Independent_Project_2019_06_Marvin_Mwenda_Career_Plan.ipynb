{
  "nbformat": 4,
  "nbformat_minor": 0,
  "metadata": {
    "colab": {
      "name": "Copy of Moringa_Data_Science_Prep_W1_Independent_Project_2019_06_Marvin_Mwenda_Career_Plan",
      "provenance": [],
      "authorship_tag": "ABX9TyPr89OQfHtROzBl+R92YGF6",
      "include_colab_link": true
    },
    "kernelspec": {
      "name": "python3",
      "display_name": "Python 3"
    },
    "language_info": {
      "name": "python"
    }
  },
  "cells": [
    {
      "cell_type": "markdown",
      "metadata": {
        "id": "view-in-github",
        "colab_type": "text"
      },
      "source": [
        "<a href=\"https://colab.research.google.com/github/gaitang/data_science/blob/master/Copy_of_Moringa_Data_Science_Prep_W1_Independent_Project_2019_06_Marvin_Mwenda_Career_Plan.ipynb\" target=\"_parent\"><img src=\"https://colab.research.google.com/assets/colab-badge.svg\" alt=\"Open In Colab\"/></a>"
      ]
    },
    {
      "cell_type": "code",
      "metadata": {
        "id": "xXlyBlmGLgXf"
      },
      "source": [
        "In the next five years I would like to:\n",
        "1. First finish the course I am currently enrolled in at Moringa school. In the next 4 weeks I will finish my prep course for data science at \n",
        "   Moringa then enroll to the core classes. I will enroll in the part time classes as I continue with my degree in the University of Nairobi.\n",
        "   In my time in Moringa I want to do my best to become the best data scientist I can become. I want to be proficient in coding with Python \n",
        "   and R and very proficient in SQL. I would like to grasp as much as I can on artificial intelligence and how to use the specific tools involved\n",
        "   to be able to create systems.After finishing the data science course I will begin the software development classes at Moringa school so as to \n",
        "   increase my knowledge and skills in relation to coding.\n",
        "2. Secondly I would look for an internship or a job in a company which relates to data science or be in the data science department so as to start \n",
        "   putting my data skills to practice out in  the real world. I will get involved with as many projects as I possibly can so as to increase my\n",
        "   portfolio in terms of data science. I will put my knowledge to good use such as increasing the efficiency of the company I am in. I will make \n",
        "   sure to always look at how I can make the systems already put in place and those which will be produced while I am there to be as user friendly\n",
        "   and efficient to use as possible.\n",
        "3. After I have accrued as much experience as required, I will apply to join the Ministry of Information, Communications and Technology of Kenya \n",
        "   which is my ultimate goal as a data scientist. I would love to help my country Kenya to move faster into the age of technology and if possible \n",
        "   even get to the forefront where we can be pioneering in technology just as countries such as Japan, South Korea and China. By creating systems\n",
        "   actually work and are efficient, I believe I will be helping speed up the process of development for my country and for my fellow citizens.\n",
        "   "
      ],
      "execution_count": null,
      "outputs": []
    },
    {
      "cell_type": "markdown",
      "metadata": {
        "id": "pWcvc_K0dZR3"
      },
      "source": [
        ""
      ]
    }
  ]
}
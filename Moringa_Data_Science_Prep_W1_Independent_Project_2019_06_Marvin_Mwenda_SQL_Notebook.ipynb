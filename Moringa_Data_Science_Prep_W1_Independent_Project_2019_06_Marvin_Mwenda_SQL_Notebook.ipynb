{
  "nbformat": 4,
  "nbformat_minor": 0,
  "metadata": {
    "colab": {
      "name": "Moringa_Data_Science_Prep_W1_Independent_Project_2019_06_Marvin_Mwenda_SQL_Notebook",
      "provenance": [],
      "authorship_tag": "ABX9TyMaIaNpFQseXUKnvXmQeo2P",
      "include_colab_link": true
    },
    "kernelspec": {
      "name": "python3",
      "display_name": "Python 3"
    },
    "language_info": {
      "name": "python"
    }
  },
  "cells": [
    {
      "cell_type": "markdown",
      "metadata": {
        "id": "view-in-github",
        "colab_type": "text"
      },
      "source": [
        "<a href=\"https://colab.research.google.com/github/gaitang/data_science/blob/master/Moringa_Data_Science_Prep_W1_Independent_Project_2019_06_Marvin_Mwenda_SQL_Notebook.ipynb\" target=\"_parent\"><img src=\"https://colab.research.google.com/assets/colab-badge.svg\" alt=\"Open In Colab\"/></a>"
      ]
    },
    {
      "cell_type": "code",
      "metadata": {
        "colab": {
          "base_uri": "https://localhost:8080/",
          "height": 35
        },
        "id": "QFLBodzQtZ8z",
        "outputId": "83bc889f-3534-4d7d-eff2-069f047daaf2"
      },
      "source": [
        "%load_ext sql\n",
        "%sql sqlite://\n"
      ],
      "execution_count": 1,
      "outputs": [
        {
          "output_type": "execute_result",
          "data": {
            "application/vnd.google.colaboratory.intrinsic+json": {
              "type": "string"
            },
            "text/plain": [
              "'Connected: @None'"
            ]
          },
          "metadata": {
            "tags": []
          },
          "execution_count": 1
        }
      ]
    },
    {
      "cell_type": "code",
      "metadata": {
        "id": "Aoe12lqSuEyF"
      },
      "source": [
        "import csv"
      ],
      "execution_count": 2,
      "outputs": []
    },
    {
      "cell_type": "code",
      "metadata": {
        "id": "Zc7kJnYWuL__"
      },
      "source": [
        "import pandas as pd"
      ],
      "execution_count": 3,
      "outputs": []
    },
    {
      "cell_type": "code",
      "metadata": {
        "id": "9dkm3ACuuXNL"
      },
      "source": [
        "# I renamed the file to Uganda to make it easier to use \n",
        "with open('Uganda.csv','r') as f:\n",
        "    Uganda = pd.read_csv(f, index_col=0, encoding='utf-8') "
      ],
      "execution_count": 5,
      "outputs": []
    },
    {
      "cell_type": "code",
      "metadata": {
        "colab": {
          "base_uri": "https://localhost:8080/",
          "height": 87
        },
        "id": "Nf3cYCJ5vgJp",
        "outputId": "6acfb61e-7b4f-4c7e-cf42-61a451355f1e"
      },
      "source": [
        "%sql DROP TABLE if EXISTS Uganda;\n",
        "%sql PERSIST Uganda;"
      ],
      "execution_count": 6,
      "outputs": [
        {
          "output_type": "stream",
          "text": [
            " * sqlite://\n",
            "Done.\n",
            " * sqlite://\n"
          ],
          "name": "stdout"
        },
        {
          "output_type": "execute_result",
          "data": {
            "application/vnd.google.colaboratory.intrinsic+json": {
              "type": "string"
            },
            "text/plain": [
              "'Persisted uganda'"
            ]
          },
          "metadata": {
            "tags": []
          },
          "execution_count": 6
        }
      ]
    },
    {
      "cell_type": "code",
      "metadata": {
        "colab": {
          "base_uri": "https://localhost:8080/",
          "height": 219
        },
        "id": "eAKG3x_bv0XC",
        "outputId": "0be88c16-ed0d-411d-a67e-e4c0055a356a"
      },
      "source": [
        "%%sql\n",
        "SELECT * FROM Uganda LIMIT 5; "
      ],
      "execution_count": 9,
      "outputs": [
        {
          "output_type": "stream",
          "text": [
            " * sqlite://\n",
            "Done.\n"
          ],
          "name": "stdout"
        },
        {
          "output_type": "execute_result",
          "data": {
            "text/html": [
              "<table>\n",
              "    <thead>\n",
              "        <tr>\n",
              "            <th>OBJECTID</th>\n",
              "            <th>SUBCOUNTY_NAME</th>\n",
              "            <th>DISTRICT_NAME</th>\n",
              "            <th>POP</th>\n",
              "            <th>Area</th>\n",
              "            <th>Karamoja</th>\n",
              "            <th>S_Yield_Ha</th>\n",
              "            <th>M_Yield_Ha</th>\n",
              "            <th>Crop_Area_Ha</th>\n",
              "            <th>S_Area_Ha</th>\n",
              "            <th>M_Area_Ha</th>\n",
              "            <th>S_Prod_Tot</th>\n",
              "            <th>M_Prod_Tot</th>\n",
              "        </tr>\n",
              "    </thead>\n",
              "    <tbody>\n",
              "        <tr>\n",
              "            <td>263</td>\n",
              "            <td>KACHERI</td>\n",
              "            <td>KOTIDO</td>\n",
              "            <td>17244</td>\n",
              "            <td>1067176155</td>\n",
              "            <td>Y</td>\n",
              "            <td>354.20741069999997</td>\n",
              "            <td>1137.467019</td>\n",
              "            <td>7023.533691</td>\n",
              "            <td>6434.342449</td>\n",
              "            <td>528.1242294</td>\n",
              "            <td>2279091.779</td>\n",
              "            <td>600723.8929</td>\n",
              "        </tr>\n",
              "        <tr>\n",
              "            <td>264</td>\n",
              "            <td>KOTIDO</td>\n",
              "            <td>KOTIDO</td>\n",
              "            <td>52771</td>\n",
              "            <td>597575188</td>\n",
              "            <td>Y</td>\n",
              "            <td>367.89052319999996</td>\n",
              "            <td>1162.9966869999998</td>\n",
              "            <td>13587.990759999999</td>\n",
              "            <td>12455.59264</td>\n",
              "            <td>824.7670809</td>\n",
              "            <td>4582294.492</td>\n",
              "            <td>959201.3825</td>\n",
              "        </tr>\n",
              "        <tr>\n",
              "            <td>265</td>\n",
              "            <td>KOTIDO TOWN COUNCIL</td>\n",
              "            <td>KOTIDO</td>\n",
              "            <td>27389</td>\n",
              "            <td>23972401</td>\n",
              "            <td>Y</td>\n",
              "            <td>369.3141771</td>\n",
              "            <td>1167.005832</td>\n",
              "            <td>1656.5318550000002</td>\n",
              "            <td>1520.322052</td>\n",
              "            <td>8.561643817</td>\n",
              "            <td>561476.4874</td>\n",
              "            <td>9991.488268000001</td>\n",
              "        </tr>\n",
              "        <tr>\n",
              "            <td>266</td>\n",
              "            <td>NAKAPERIMORU</td>\n",
              "            <td>KOTIDO</td>\n",
              "            <td>38775</td>\n",
              "            <td>419111591</td>\n",
              "            <td>Y</td>\n",
              "            <td>283.3245689</td>\n",
              "            <td>852.3665784</td>\n",
              "            <td>7087.823334000001</td>\n",
              "            <td>6761.488901000001</td>\n",
              "            <td>45.72171184</td>\n",
              "            <td>1915695.928</td>\n",
              "            <td>38971.65908</td>\n",
              "        </tr>\n",
              "        <tr>\n",
              "            <td>267</td>\n",
              "            <td>PANYANGARA</td>\n",
              "            <td>KOTIDO</td>\n",
              "            <td>65704</td>\n",
              "            <td>880955930</td>\n",
              "            <td>Y</td>\n",
              "            <td>373.8369255</td>\n",
              "            <td>1283.859882</td>\n",
              "            <td>10398.24939</td>\n",
              "            <td>10111.198129999999</td>\n",
              "            <td>172.6119139</td>\n",
              "            <td>3779939.224</td>\n",
              "            <td>221609.5114</td>\n",
              "        </tr>\n",
              "    </tbody>\n",
              "</table>"
            ],
            "text/plain": [
              "[(263, 'KACHERI', 'KOTIDO', 17244, 1067176155, 'Y', 354.20741069999997, 1137.467019, 7023.533691, 6434.342449, 528.1242294, 2279091.779, 600723.8929),\n",
              " (264, 'KOTIDO', 'KOTIDO', 52771, 597575188, 'Y', 367.89052319999996, 1162.9966869999998, 13587.990759999999, 12455.59264, 824.7670809, 4582294.492, 959201.3825),\n",
              " (265, 'KOTIDO TOWN COUNCIL', 'KOTIDO', 27389, 23972401, 'Y', 369.3141771, 1167.005832, 1656.5318550000002, 1520.322052, 8.561643817, 561476.4874, 9991.488268000001),\n",
              " (266, 'NAKAPERIMORU', 'KOTIDO', 38775, 419111591, 'Y', 283.3245689, 852.3665784, 7087.823334000001, 6761.488901000001, 45.72171184, 1915695.928, 38971.65908),\n",
              " (267, 'PANYANGARA', 'KOTIDO', 65704, 880955930, 'Y', 373.8369255, 1283.859882, 10398.24939, 10111.198129999999, 172.6119139, 3779939.224, 221609.5114)]"
            ]
          },
          "metadata": {
            "tags": []
          },
          "execution_count": 9
        }
      ]
    }
  ]
}
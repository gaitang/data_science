{
  "nbformat": 4,
  "nbformat_minor": 0,
  "metadata": {
    "colab": {
      "name": "\"Moringa_Data_Science_Prep_W1_Independent_Project_2019_06_Marvin_Mwenda_Python_Notebook\"",
      "provenance": [],
      "authorship_tag": "ABX9TyO/wzt6x226tCPJjblK3ff6",
      "include_colab_link": true
    },
    "kernelspec": {
      "name": "python3",
      "display_name": "Python 3"
    },
    "language_info": {
      "name": "python"
    }
  },
  "cells": [
    {
      "cell_type": "markdown",
      "metadata": {
        "id": "view-in-github",
        "colab_type": "text"
      },
      "source": [
        "<a href=\"https://colab.research.google.com/github/gaitang/data_science/blob/master/%22Moringa_Data_Science_Prep_W1_Independent_Project_2019_06_Marvin_Mwenda_Python_Notebook%22.ipynb\" target=\"_parent\"><img src=\"https://colab.research.google.com/assets/colab-badge.svg\" alt=\"Open In Colab\"/></a>"
      ]
    },
    {
      "cell_type": "code",
      "metadata": {
        "colab": {
          "base_uri": "https://localhost:8080/"
        },
        "id": "uB4QSbasfg2O",
        "outputId": "512ee00f-b4b0-417c-961d-a379b7970905"
      },
      "source": [
        "#First we ask the user to input two numbers in pounds which we put into the variables x and y as floats so as to allow easy transformation into kgs\n",
        "x = float (input(\"Enter 1st pound value: \"))\n",
        "# Then we find out if the number is odd or even\n",
        "if (x%2==0):\n",
        "  print(x,\" value is even\")\n",
        "elif (x%2==1):\n",
        "  print(x,\" value is odd\") \n",
        "y = float (input(\"Enter 2nd pound value: \"))\n",
        "# To also find out if the second number is odd or even\n",
        "if (y%2==0):\n",
        "  print(y,\" value is even\")\n",
        "elif (y%2==1):\n",
        "  print(y,\" value is odd\") \n",
        "\n",
        "# Secondly we change the pound values into kilograms by dividing both variables by 2.205\n",
        "xkg = x/2.205\n",
        "ykg = y/2.205\n",
        "\n",
        "# Next we do the mathematical manipulations to find the sum, average, difference and quotient of the two values\n",
        "sum = xkg+ykg\n",
        "avg = sum / 2\n",
        "diff = xkg-ykg\n",
        "q = xkg//ykg\n",
        "\n",
        "# Next we print out our findings\n",
        "print(\"1st pound value in kg is: \" + str (xkg) + \"kg\")\n",
        "\n",
        "print(\"2nd pound value in kg is: \" + str (ykg) + \"kg\")\n",
        "\n",
        "print(\"sum of the values is: \" + str (sum) + \"kg\")\n",
        "print(\"average of the values is: \" + str (avg) + \"kg\")\n",
        "print(\"difference of the values is: \" + str (diff) + \"kg\")\n",
        "print(\"quotient of the values is: \" + str (q) + \"kg\")\n"
      ],
      "execution_count": null,
      "outputs": [
        {
          "output_type": "stream",
          "text": [
            "Enter 1st pound value: 153\n",
            "153.0  value is odd\n",
            "Enter 2nd pound value: 127\n",
            "127.0  value is odd\n",
            "1st pound value in kg is: 69.38775510204081kg\n",
            "2nd pound value in kg is: 57.59637188208617kg\n",
            "sum of the values is: 126.98412698412699kg\n",
            "average of the values is: 63.492063492063494kg\n",
            "difference of the values is: 11.791383219954646kg\n",
            "quotient of the values is: 1.0kg\n"
          ],
          "name": "stdout"
        }
      ]
    }
  ]
}
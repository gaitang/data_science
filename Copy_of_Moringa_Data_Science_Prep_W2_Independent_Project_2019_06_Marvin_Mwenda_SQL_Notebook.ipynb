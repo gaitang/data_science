{
  "nbformat": 4,
  "nbformat_minor": 0,
  "metadata": {
    "colab": {
      "name": "Copy of Moringa_Data_Science_Prep_W2_Independent_Project_2019_06_Marvin_Mwenda_SQL_Notebook",
      "provenance": [],
      "authorship_tag": "ABX9TyM4ylbCm4mXWH7N/1d4XktD",
      "include_colab_link": true
    },
    "kernelspec": {
      "name": "python3",
      "display_name": "Python 3"
    },
    "language_info": {
      "name": "python"
    }
  },
  "cells": [
    {
      "cell_type": "markdown",
      "metadata": {
        "id": "view-in-github",
        "colab_type": "text"
      },
      "source": [
        "<a href=\"https://colab.research.google.com/github/gaitang/data_science/blob/master/Copy_of_Moringa_Data_Science_Prep_W2_Independent_Project_2019_06_Marvin_Mwenda_SQL_Notebook.ipynb\" target=\"_parent\"><img src=\"https://colab.research.google.com/assets/colab-badge.svg\" alt=\"Open In Colab\"/></a>"
      ]
    },
    {
      "cell_type": "code",
      "metadata": {
        "colab": {
          "base_uri": "https://localhost:8080/",
          "height": 71
        },
        "id": "pCujdvDT1t9H",
        "outputId": "5ecb63db-0675-4c95-8299-e2e4658e01d1"
      },
      "source": [
        "# We will first load the sql extension into our environment\n",
        "%load_ext sql\n",
        "\n",
        "# Then connect to our in memory sqlite database\n",
        "# NB: This database will cease to exist as soon as the database connection is closed. \n",
        "%sql sqlite://"
      ],
      "execution_count": null,
      "outputs": [
        {
          "output_type": "stream",
          "text": [
            "The sql extension is already loaded. To reload it, use:\n",
            "  %reload_ext sql\n"
          ],
          "name": "stdout"
        },
        {
          "output_type": "execute_result",
          "data": {
            "application/vnd.google.colaboratory.intrinsic+json": {
              "type": "string"
            },
            "text/plain": [
              "'Connected: @None'"
            ]
          },
          "metadata": {
            "tags": []
          },
          "execution_count": 9
        }
      ]
    },
    {
      "cell_type": "code",
      "metadata": {
        "id": "APmNNPdG107p"
      },
      "source": [
        "import pandas as pd"
      ],
      "execution_count": null,
      "outputs": []
    },
    {
      "cell_type": "code",
      "metadata": {
        "colab": {
          "base_uri": "https://localhost:8080/",
          "height": 89
        },
        "id": "tW1MZNOl17eE",
        "outputId": "8a8c6989-9781-43c3-9d2c-b0e4b9571a5a"
      },
      "source": [
        "#loading our datasets\n",
        "#I renamed the datasets to make the easier to use\n",
        "with open('Grandelectors.csv','r') as f:\n",
        "    Grandelectors = pd.read_csv(f, index_col=0, encoding='utf-8')\n",
        "%sql DROP TABLE if EXISTS Grandelectors;\n",
        "%sql PERSIST Grandelectors;"
      ],
      "execution_count": null,
      "outputs": [
        {
          "output_type": "stream",
          "text": [
            " * sqlite://\n",
            "Done.\n",
            " * sqlite://\n"
          ],
          "name": "stdout"
        },
        {
          "output_type": "execute_result",
          "data": {
            "application/vnd.google.colaboratory.intrinsic+json": {
              "type": "string"
            },
            "text/plain": [
              "'Persisted grandelectors'"
            ]
          },
          "metadata": {
            "tags": []
          },
          "execution_count": 11
        }
      ]
    },
    {
      "cell_type": "code",
      "metadata": {
        "colab": {
          "base_uri": "https://localhost:8080/",
          "height": 89
        },
        "id": "Vs3AN8x82kyY",
        "outputId": "3291e680-a20e-4bab-d937-013a6f355baa"
      },
      "source": [
        "with open('Population.csv','r') as f:\n",
        "    Population = pd.read_csv(f, index_col=0, encoding='utf-8')\n",
        "%sql DROP TABLE if EXISTS Population;\n",
        "%sql PERSIST Population;"
      ],
      "execution_count": null,
      "outputs": [
        {
          "output_type": "stream",
          "text": [
            " * sqlite://\n",
            "Done.\n",
            " * sqlite://\n"
          ],
          "name": "stdout"
        },
        {
          "output_type": "execute_result",
          "data": {
            "application/vnd.google.colaboratory.intrinsic+json": {
              "type": "string"
            },
            "text/plain": [
              "'Persisted population'"
            ]
          },
          "metadata": {
            "tags": []
          },
          "execution_count": 12
        }
      ]
    },
    {
      "cell_type": "code",
      "metadata": {
        "colab": {
          "base_uri": "https://localhost:8080/"
        },
        "id": "AcbioDV92Ngb",
        "outputId": "c50e546a-e6aa-4bbf-9259-d6cfa58a861e"
      },
      "source": [
        "%%sql\n",
        "UPDATE Grandelectors SET State = UPPER(State)"
      ],
      "execution_count": null,
      "outputs": [
        {
          "output_type": "stream",
          "text": [
            " * sqlite://\n",
            "51 rows affected.\n"
          ],
          "name": "stdout"
        },
        {
          "output_type": "execute_result",
          "data": {
            "text/plain": [
              "[]"
            ]
          },
          "metadata": {
            "tags": []
          },
          "execution_count": 13
        }
      ]
    },
    {
      "cell_type": "code",
      "metadata": {
        "colab": {
          "base_uri": "https://localhost:8080/",
          "height": 177
        },
        "id": "HxHuKLTG2OSQ",
        "outputId": "cbef9401-2e11-4fbb-b9f5-db6ba30c94fb"
      },
      "source": [
        "%%sql\n",
        "SELECT * FROM Grandelectors LIMIT 5;"
      ],
      "execution_count": null,
      "outputs": [
        {
          "output_type": "stream",
          "text": [
            " * sqlite://\n",
            "Done.\n"
          ],
          "name": "stdout"
        },
        {
          "output_type": "execute_result",
          "data": {
            "text/html": [
              "<table>\n",
              "    <thead>\n",
              "        <tr>\n",
              "            <th>State</th>\n",
              "            <th>GrandElectors</th>\n",
              "        </tr>\n",
              "    </thead>\n",
              "    <tbody>\n",
              "        <tr>\n",
              "            <td>ALABAMA</td>\n",
              "            <td>9</td>\n",
              "        </tr>\n",
              "        <tr>\n",
              "            <td>ALASKA</td>\n",
              "            <td>3</td>\n",
              "        </tr>\n",
              "        <tr>\n",
              "            <td>ARIZONA</td>\n",
              "            <td>11</td>\n",
              "        </tr>\n",
              "        <tr>\n",
              "            <td>ARKANSAS</td>\n",
              "            <td>6</td>\n",
              "        </tr>\n",
              "        <tr>\n",
              "            <td>CALIFORNIA</td>\n",
              "            <td>55</td>\n",
              "        </tr>\n",
              "    </tbody>\n",
              "</table>"
            ],
            "text/plain": [
              "[('ALABAMA', 9),\n",
              " ('ALASKA', 3),\n",
              " ('ARIZONA', 11),\n",
              " ('ARKANSAS', 6),\n",
              " ('CALIFORNIA', 55)]"
            ]
          },
          "metadata": {
            "tags": []
          },
          "execution_count": 14
        }
      ]
    },
    {
      "cell_type": "code",
      "metadata": {
        "colab": {
          "base_uri": "https://localhost:8080/"
        },
        "id": "Qrb1-RlQ2OuH",
        "outputId": "094cb782-ac46-4e06-8494-6caaf92f8fec"
      },
      "source": [
        "%%sql\n",
        "CREATE TABLE Joined (State varchar(100), Grandelectors float, Population float);\n",
        "INSERT INTO Joined(State, Grandelectors, Population)\n",
        "SELECT Grandelectors.State, Grandelectors.Grandelectors, Population.Population\n",
        "FROM Grandelectors INNER JOIN Population\n",
        "     ON Grandelectors.state = Population.state"
      ],
      "execution_count": null,
      "outputs": [
        {
          "output_type": "stream",
          "text": [
            " * sqlite://\n",
            "Done.\n",
            "51 rows affected.\n"
          ],
          "name": "stdout"
        },
        {
          "output_type": "execute_result",
          "data": {
            "text/plain": [
              "[]"
            ]
          },
          "metadata": {
            "tags": []
          },
          "execution_count": 15
        }
      ]
    },
    {
      "cell_type": "code",
      "metadata": {
        "colab": {
          "base_uri": "https://localhost:8080/"
        },
        "id": "EsYjPcuh2zaB",
        "outputId": "39534fb8-464b-4f43-e187-43a8d233b213"
      },
      "source": [
        "%%sql\n",
        "UPDATE Joined\n",
        "SET State = \"DC\"\n",
        "WHERE State = \"DISTRICT OF COLUMBIA\""
      ],
      "execution_count": null,
      "outputs": [
        {
          "output_type": "stream",
          "text": [
            " * sqlite://\n",
            "1 rows affected.\n"
          ],
          "name": "stdout"
        },
        {
          "output_type": "execute_result",
          "data": {
            "text/plain": [
              "[]"
            ]
          },
          "metadata": {
            "tags": []
          },
          "execution_count": 16
        }
      ]
    },
    {
      "cell_type": "code",
      "metadata": {
        "colab": {
          "base_uri": "https://localhost:8080/"
        },
        "id": "CUGuvJxK3D6u",
        "outputId": "f73d0515-5207-4ff0-f570-215e49cd92a1"
      },
      "source": [
        "%%sql\n",
        "ALTER TABLE Joined\n",
        "ADD Ratio float(100);"
      ],
      "execution_count": null,
      "outputs": [
        {
          "output_type": "stream",
          "text": [
            " * sqlite://\n",
            "Done.\n"
          ],
          "name": "stdout"
        },
        {
          "output_type": "execute_result",
          "data": {
            "text/plain": [
              "[]"
            ]
          },
          "metadata": {
            "tags": []
          },
          "execution_count": 17
        }
      ]
    },
    {
      "cell_type": "code",
      "metadata": {
        "colab": {
          "base_uri": "https://localhost:8080/",
          "height": 1000
        },
        "id": "X4Spf7xQ3NHr",
        "outputId": "384765b9-cebd-402c-c7da-3b2ca6693256"
      },
      "source": [
        "%%sql\n",
        "SELECT * FROM Joined"
      ],
      "execution_count": null,
      "outputs": [
        {
          "output_type": "stream",
          "text": [
            " * sqlite://\n",
            "Done.\n"
          ],
          "name": "stdout"
        },
        {
          "output_type": "execute_result",
          "data": {
            "text/html": [
              "<table>\n",
              "    <thead>\n",
              "        <tr>\n",
              "            <th>State</th>\n",
              "            <th>Grandelectors</th>\n",
              "            <th>Population</th>\n",
              "            <th>Ratio</th>\n",
              "        </tr>\n",
              "    </thead>\n",
              "    <tbody>\n",
              "        <tr>\n",
              "            <td>ALABAMA</td>\n",
              "            <td>9.0</td>\n",
              "            <td>4858979.0</td>\n",
              "            <td>None</td>\n",
              "        </tr>\n",
              "        <tr>\n",
              "            <td>ALASKA</td>\n",
              "            <td>3.0</td>\n",
              "            <td>738432.0</td>\n",
              "            <td>None</td>\n",
              "        </tr>\n",
              "        <tr>\n",
              "            <td>ARIZONA</td>\n",
              "            <td>11.0</td>\n",
              "            <td>6828065.0</td>\n",
              "            <td>None</td>\n",
              "        </tr>\n",
              "        <tr>\n",
              "            <td>ARKANSAS</td>\n",
              "            <td>6.0</td>\n",
              "            <td>2978204.0</td>\n",
              "            <td>None</td>\n",
              "        </tr>\n",
              "        <tr>\n",
              "            <td>CALIFORNIA</td>\n",
              "            <td>55.0</td>\n",
              "            <td>39144818.0</td>\n",
              "            <td>None</td>\n",
              "        </tr>\n",
              "        <tr>\n",
              "            <td>COLORADO</td>\n",
              "            <td>9.0</td>\n",
              "            <td>5456574.0</td>\n",
              "            <td>None</td>\n",
              "        </tr>\n",
              "        <tr>\n",
              "            <td>CONNECTICUT</td>\n",
              "            <td>7.0</td>\n",
              "            <td>3590886.0</td>\n",
              "            <td>None</td>\n",
              "        </tr>\n",
              "        <tr>\n",
              "            <td>DC</td>\n",
              "            <td>3.0</td>\n",
              "            <td>672228.0</td>\n",
              "            <td>None</td>\n",
              "        </tr>\n",
              "        <tr>\n",
              "            <td>DELAWARE</td>\n",
              "            <td>3.0</td>\n",
              "            <td>945934.0</td>\n",
              "            <td>None</td>\n",
              "        </tr>\n",
              "        <tr>\n",
              "            <td>FLORIDA</td>\n",
              "            <td>29.0</td>\n",
              "            <td>20271272.0</td>\n",
              "            <td>None</td>\n",
              "        </tr>\n",
              "        <tr>\n",
              "            <td>GEORGIA</td>\n",
              "            <td>16.0</td>\n",
              "            <td>10214860.0</td>\n",
              "            <td>None</td>\n",
              "        </tr>\n",
              "        <tr>\n",
              "            <td>HAWAII</td>\n",
              "            <td>4.0</td>\n",
              "            <td>1431603.0</td>\n",
              "            <td>None</td>\n",
              "        </tr>\n",
              "        <tr>\n",
              "            <td>IDAHO</td>\n",
              "            <td>4.0</td>\n",
              "            <td>1654930.0</td>\n",
              "            <td>None</td>\n",
              "        </tr>\n",
              "        <tr>\n",
              "            <td>ILLINOIS</td>\n",
              "            <td>20.0</td>\n",
              "            <td>12859995.0</td>\n",
              "            <td>None</td>\n",
              "        </tr>\n",
              "        <tr>\n",
              "            <td>INDIANA</td>\n",
              "            <td>11.0</td>\n",
              "            <td>6619680.0</td>\n",
              "            <td>None</td>\n",
              "        </tr>\n",
              "        <tr>\n",
              "            <td>IOWA</td>\n",
              "            <td>6.0</td>\n",
              "            <td>3123899.0</td>\n",
              "            <td>None</td>\n",
              "        </tr>\n",
              "        <tr>\n",
              "            <td>KANSAS</td>\n",
              "            <td>6.0</td>\n",
              "            <td>2911641.0</td>\n",
              "            <td>None</td>\n",
              "        </tr>\n",
              "        <tr>\n",
              "            <td>KENTUCKY</td>\n",
              "            <td>8.0</td>\n",
              "            <td>4425092.0</td>\n",
              "            <td>None</td>\n",
              "        </tr>\n",
              "        <tr>\n",
              "            <td>LOUISIANA</td>\n",
              "            <td>8.0</td>\n",
              "            <td>4670724.0</td>\n",
              "            <td>None</td>\n",
              "        </tr>\n",
              "        <tr>\n",
              "            <td>MAINE</td>\n",
              "            <td>4.0</td>\n",
              "            <td>1329328.0</td>\n",
              "            <td>None</td>\n",
              "        </tr>\n",
              "        <tr>\n",
              "            <td>MARYLAND</td>\n",
              "            <td>10.0</td>\n",
              "            <td>6006401.0</td>\n",
              "            <td>None</td>\n",
              "        </tr>\n",
              "        <tr>\n",
              "            <td>MASSACHUSETTS</td>\n",
              "            <td>11.0</td>\n",
              "            <td>6794422.0</td>\n",
              "            <td>None</td>\n",
              "        </tr>\n",
              "        <tr>\n",
              "            <td>MICHIGAN</td>\n",
              "            <td>16.0</td>\n",
              "            <td>9922576.0</td>\n",
              "            <td>None</td>\n",
              "        </tr>\n",
              "        <tr>\n",
              "            <td>MINNESOTA</td>\n",
              "            <td>10.0</td>\n",
              "            <td>5489594.0</td>\n",
              "            <td>None</td>\n",
              "        </tr>\n",
              "        <tr>\n",
              "            <td>MISSISSIPPI</td>\n",
              "            <td>6.0</td>\n",
              "            <td>2992333.0</td>\n",
              "            <td>None</td>\n",
              "        </tr>\n",
              "        <tr>\n",
              "            <td>MISSOURI</td>\n",
              "            <td>10.0</td>\n",
              "            <td>6083672.0</td>\n",
              "            <td>None</td>\n",
              "        </tr>\n",
              "        <tr>\n",
              "            <td>MONTANA</td>\n",
              "            <td>3.0</td>\n",
              "            <td>1032949.0</td>\n",
              "            <td>None</td>\n",
              "        </tr>\n",
              "        <tr>\n",
              "            <td>NEBRASKA</td>\n",
              "            <td>5.0</td>\n",
              "            <td>1896190.0</td>\n",
              "            <td>None</td>\n",
              "        </tr>\n",
              "        <tr>\n",
              "            <td>NEVADA</td>\n",
              "            <td>6.0</td>\n",
              "            <td>2890845.0</td>\n",
              "            <td>None</td>\n",
              "        </tr>\n",
              "        <tr>\n",
              "            <td>NEW HAMPSHIRE</td>\n",
              "            <td>4.0</td>\n",
              "            <td>1330608.0</td>\n",
              "            <td>None</td>\n",
              "        </tr>\n",
              "        <tr>\n",
              "            <td>NEW JERSEY</td>\n",
              "            <td>14.0</td>\n",
              "            <td>8958013.0</td>\n",
              "            <td>None</td>\n",
              "        </tr>\n",
              "        <tr>\n",
              "            <td>NEW MEXICO</td>\n",
              "            <td>5.0</td>\n",
              "            <td>2085109.0</td>\n",
              "            <td>None</td>\n",
              "        </tr>\n",
              "        <tr>\n",
              "            <td>NEW YORK</td>\n",
              "            <td>29.0</td>\n",
              "            <td>19795791.0</td>\n",
              "            <td>None</td>\n",
              "        </tr>\n",
              "        <tr>\n",
              "            <td>NORTH CAROLINA</td>\n",
              "            <td>15.0</td>\n",
              "            <td>10042802.0</td>\n",
              "            <td>None</td>\n",
              "        </tr>\n",
              "        <tr>\n",
              "            <td>NORTH DAKOTA</td>\n",
              "            <td>3.0</td>\n",
              "            <td>756927.0</td>\n",
              "            <td>None</td>\n",
              "        </tr>\n",
              "        <tr>\n",
              "            <td>OHIO</td>\n",
              "            <td>18.0</td>\n",
              "            <td>11613423.0</td>\n",
              "            <td>None</td>\n",
              "        </tr>\n",
              "        <tr>\n",
              "            <td>OKLAHOMA</td>\n",
              "            <td>7.0</td>\n",
              "            <td>3911338.0</td>\n",
              "            <td>None</td>\n",
              "        </tr>\n",
              "        <tr>\n",
              "            <td>OREGON</td>\n",
              "            <td>7.0</td>\n",
              "            <td>4028977.0</td>\n",
              "            <td>None</td>\n",
              "        </tr>\n",
              "        <tr>\n",
              "            <td>PENNSYLVANIA</td>\n",
              "            <td>20.0</td>\n",
              "            <td>12802503.0</td>\n",
              "            <td>None</td>\n",
              "        </tr>\n",
              "        <tr>\n",
              "            <td>RHODE ISLAND</td>\n",
              "            <td>4.0</td>\n",
              "            <td>1056298.0</td>\n",
              "            <td>None</td>\n",
              "        </tr>\n",
              "        <tr>\n",
              "            <td>SOUTH CAROLINA</td>\n",
              "            <td>9.0</td>\n",
              "            <td>4896146.0</td>\n",
              "            <td>None</td>\n",
              "        </tr>\n",
              "        <tr>\n",
              "            <td>SOUTH DAKOTA</td>\n",
              "            <td>3.0</td>\n",
              "            <td>858469.0</td>\n",
              "            <td>None</td>\n",
              "        </tr>\n",
              "        <tr>\n",
              "            <td>TENNESSEE</td>\n",
              "            <td>11.0</td>\n",
              "            <td>6600299.0</td>\n",
              "            <td>None</td>\n",
              "        </tr>\n",
              "        <tr>\n",
              "            <td>TEXAS</td>\n",
              "            <td>38.0</td>\n",
              "            <td>27469114.0</td>\n",
              "            <td>None</td>\n",
              "        </tr>\n",
              "        <tr>\n",
              "            <td>UTAH</td>\n",
              "            <td>6.0</td>\n",
              "            <td>2995919.0</td>\n",
              "            <td>None</td>\n",
              "        </tr>\n",
              "        <tr>\n",
              "            <td>VERMONT</td>\n",
              "            <td>3.0</td>\n",
              "            <td>626042.0</td>\n",
              "            <td>None</td>\n",
              "        </tr>\n",
              "        <tr>\n",
              "            <td>VIRGINIA</td>\n",
              "            <td>13.0</td>\n",
              "            <td>8382993.0</td>\n",
              "            <td>None</td>\n",
              "        </tr>\n",
              "        <tr>\n",
              "            <td>WASHINGTON</td>\n",
              "            <td>12.0</td>\n",
              "            <td>7170351.0</td>\n",
              "            <td>None</td>\n",
              "        </tr>\n",
              "        <tr>\n",
              "            <td>WEST VIRGINIA</td>\n",
              "            <td>5.0</td>\n",
              "            <td>1844128.0</td>\n",
              "            <td>None</td>\n",
              "        </tr>\n",
              "        <tr>\n",
              "            <td>WISCONSIN</td>\n",
              "            <td>10.0</td>\n",
              "            <td>5771337.0</td>\n",
              "            <td>None</td>\n",
              "        </tr>\n",
              "        <tr>\n",
              "            <td>WYOMING</td>\n",
              "            <td>3.0</td>\n",
              "            <td>586107.0</td>\n",
              "            <td>None</td>\n",
              "        </tr>\n",
              "    </tbody>\n",
              "</table>"
            ],
            "text/plain": [
              "[('ALABAMA', 9.0, 4858979.0, None),\n",
              " ('ALASKA', 3.0, 738432.0, None),\n",
              " ('ARIZONA', 11.0, 6828065.0, None),\n",
              " ('ARKANSAS', 6.0, 2978204.0, None),\n",
              " ('CALIFORNIA', 55.0, 39144818.0, None),\n",
              " ('COLORADO', 9.0, 5456574.0, None),\n",
              " ('CONNECTICUT', 7.0, 3590886.0, None),\n",
              " ('DC', 3.0, 672228.0, None),\n",
              " ('DELAWARE', 3.0, 945934.0, None),\n",
              " ('FLORIDA', 29.0, 20271272.0, None),\n",
              " ('GEORGIA', 16.0, 10214860.0, None),\n",
              " ('HAWAII', 4.0, 1431603.0, None),\n",
              " ('IDAHO', 4.0, 1654930.0, None),\n",
              " ('ILLINOIS', 20.0, 12859995.0, None),\n",
              " ('INDIANA', 11.0, 6619680.0, None),\n",
              " ('IOWA', 6.0, 3123899.0, None),\n",
              " ('KANSAS', 6.0, 2911641.0, None),\n",
              " ('KENTUCKY', 8.0, 4425092.0, None),\n",
              " ('LOUISIANA', 8.0, 4670724.0, None),\n",
              " ('MAINE', 4.0, 1329328.0, None),\n",
              " ('MARYLAND', 10.0, 6006401.0, None),\n",
              " ('MASSACHUSETTS', 11.0, 6794422.0, None),\n",
              " ('MICHIGAN', 16.0, 9922576.0, None),\n",
              " ('MINNESOTA', 10.0, 5489594.0, None),\n",
              " ('MISSISSIPPI', 6.0, 2992333.0, None),\n",
              " ('MISSOURI', 10.0, 6083672.0, None),\n",
              " ('MONTANA', 3.0, 1032949.0, None),\n",
              " ('NEBRASKA', 5.0, 1896190.0, None),\n",
              " ('NEVADA', 6.0, 2890845.0, None),\n",
              " ('NEW HAMPSHIRE', 4.0, 1330608.0, None),\n",
              " ('NEW JERSEY', 14.0, 8958013.0, None),\n",
              " ('NEW MEXICO', 5.0, 2085109.0, None),\n",
              " ('NEW YORK', 29.0, 19795791.0, None),\n",
              " ('NORTH CAROLINA', 15.0, 10042802.0, None),\n",
              " ('NORTH DAKOTA', 3.0, 756927.0, None),\n",
              " ('OHIO', 18.0, 11613423.0, None),\n",
              " ('OKLAHOMA', 7.0, 3911338.0, None),\n",
              " ('OREGON', 7.0, 4028977.0, None),\n",
              " ('PENNSYLVANIA', 20.0, 12802503.0, None),\n",
              " ('RHODE ISLAND', 4.0, 1056298.0, None),\n",
              " ('SOUTH CAROLINA', 9.0, 4896146.0, None),\n",
              " ('SOUTH DAKOTA', 3.0, 858469.0, None),\n",
              " ('TENNESSEE', 11.0, 6600299.0, None),\n",
              " ('TEXAS', 38.0, 27469114.0, None),\n",
              " ('UTAH', 6.0, 2995919.0, None),\n",
              " ('VERMONT', 3.0, 626042.0, None),\n",
              " ('VIRGINIA', 13.0, 8382993.0, None),\n",
              " ('WASHINGTON', 12.0, 7170351.0, None),\n",
              " ('WEST VIRGINIA', 5.0, 1844128.0, None),\n",
              " ('WISCONSIN', 10.0, 5771337.0, None),\n",
              " ('WYOMING', 3.0, 586107.0, None)]"
            ]
          },
          "metadata": {
            "tags": []
          },
          "execution_count": 18
        }
      ]
    },
    {
      "cell_type": "code",
      "metadata": {
        "colab": {
          "base_uri": "https://localhost:8080/"
        },
        "id": "RYCKvyLb5I47",
        "outputId": "4da15189-20e8-423a-8663-5a4704364a01"
      },
      "source": [
        "# To fill in the column of ratios\n",
        "%%sql\n",
        "UPDATE Joined SET ratio = Grandelectors/Population;"
      ],
      "execution_count": null,
      "outputs": [
        {
          "output_type": "stream",
          "text": [
            " * sqlite://\n",
            "51 rows affected.\n"
          ],
          "name": "stdout"
        },
        {
          "output_type": "execute_result",
          "data": {
            "text/plain": [
              "[]"
            ]
          },
          "metadata": {
            "tags": []
          },
          "execution_count": 19
        }
      ]
    },
    {
      "cell_type": "code",
      "metadata": {
        "colab": {
          "base_uri": "https://localhost:8080/",
          "height": 1000
        },
        "id": "PYCHwTHC5bL1",
        "outputId": "fed5c006-0f2e-438b-8e34-b34c8546a121"
      },
      "source": [
        "# To order the states acording to the ratio of Grandelectors to population\n",
        "%%sql\n",
        "SELECT * FROM Joined\n",
        "ORDER BY Ratio DESC;"
      ],
      "execution_count": null,
      "outputs": [
        {
          "output_type": "stream",
          "text": [
            " * sqlite://\n",
            "Done.\n"
          ],
          "name": "stdout"
        },
        {
          "output_type": "execute_result",
          "data": {
            "text/html": [
              "<table>\n",
              "    <thead>\n",
              "        <tr>\n",
              "            <th>State</th>\n",
              "            <th>Grandelectors</th>\n",
              "            <th>Population</th>\n",
              "            <th>Ratio</th>\n",
              "        </tr>\n",
              "    </thead>\n",
              "    <tbody>\n",
              "        <tr>\n",
              "            <td>WYOMING</td>\n",
              "            <td>3.0</td>\n",
              "            <td>586107.0</td>\n",
              "            <td>5.118519314732634e-06</td>\n",
              "        </tr>\n",
              "        <tr>\n",
              "            <td>VERMONT</td>\n",
              "            <td>3.0</td>\n",
              "            <td>626042.0</td>\n",
              "            <td>4.792010759661493e-06</td>\n",
              "        </tr>\n",
              "        <tr>\n",
              "            <td>DC</td>\n",
              "            <td>3.0</td>\n",
              "            <td>672228.0</td>\n",
              "            <td>4.462771559649405e-06</td>\n",
              "        </tr>\n",
              "        <tr>\n",
              "            <td>ALASKA</td>\n",
              "            <td>3.0</td>\n",
              "            <td>738432.0</td>\n",
              "            <td>4.0626625065002604e-06</td>\n",
              "        </tr>\n",
              "        <tr>\n",
              "            <td>NORTH DAKOTA</td>\n",
              "            <td>3.0</td>\n",
              "            <td>756927.0</td>\n",
              "            <td>3.963394092164766e-06</td>\n",
              "        </tr>\n",
              "        <tr>\n",
              "            <td>RHODE ISLAND</td>\n",
              "            <td>4.0</td>\n",
              "            <td>1056298.0</td>\n",
              "            <td>3.7868101615263876e-06</td>\n",
              "        </tr>\n",
              "        <tr>\n",
              "            <td>SOUTH DAKOTA</td>\n",
              "            <td>3.0</td>\n",
              "            <td>858469.0</td>\n",
              "            <td>3.4945932817609025e-06</td>\n",
              "        </tr>\n",
              "        <tr>\n",
              "            <td>DELAWARE</td>\n",
              "            <td>3.0</td>\n",
              "            <td>945934.0</td>\n",
              "            <td>3.1714686225466047e-06</td>\n",
              "        </tr>\n",
              "        <tr>\n",
              "            <td>MAINE</td>\n",
              "            <td>4.0</td>\n",
              "            <td>1329328.0</td>\n",
              "            <td>3.009039153617467e-06</td>\n",
              "        </tr>\n",
              "        <tr>\n",
              "            <td>NEW HAMPSHIRE</td>\n",
              "            <td>4.0</td>\n",
              "            <td>1330608.0</td>\n",
              "            <td>3.0061445594795764e-06</td>\n",
              "        </tr>\n",
              "        <tr>\n",
              "            <td>MONTANA</td>\n",
              "            <td>3.0</td>\n",
              "            <td>1032949.0</td>\n",
              "            <td>2.904306020916812e-06</td>\n",
              "        </tr>\n",
              "        <tr>\n",
              "            <td>HAWAII</td>\n",
              "            <td>4.0</td>\n",
              "            <td>1431603.0</td>\n",
              "            <td>2.794070702562093e-06</td>\n",
              "        </tr>\n",
              "        <tr>\n",
              "            <td>WEST VIRGINIA</td>\n",
              "            <td>5.0</td>\n",
              "            <td>1844128.0</td>\n",
              "            <td>2.7113085425740512e-06</td>\n",
              "        </tr>\n",
              "        <tr>\n",
              "            <td>NEBRASKA</td>\n",
              "            <td>5.0</td>\n",
              "            <td>1896190.0</td>\n",
              "            <td>2.636866558730929e-06</td>\n",
              "        </tr>\n",
              "        <tr>\n",
              "            <td>IDAHO</td>\n",
              "            <td>4.0</td>\n",
              "            <td>1654930.0</td>\n",
              "            <td>2.417020659484087e-06</td>\n",
              "        </tr>\n",
              "        <tr>\n",
              "            <td>NEW MEXICO</td>\n",
              "            <td>5.0</td>\n",
              "            <td>2085109.0</td>\n",
              "            <td>2.3979561739937817e-06</td>\n",
              "        </tr>\n",
              "        <tr>\n",
              "            <td>NEVADA</td>\n",
              "            <td>6.0</td>\n",
              "            <td>2890845.0</td>\n",
              "            <td>2.0755177119492743e-06</td>\n",
              "        </tr>\n",
              "        <tr>\n",
              "            <td>KANSAS</td>\n",
              "            <td>6.0</td>\n",
              "            <td>2911641.0</td>\n",
              "            <td>2.0606936088618066e-06</td>\n",
              "        </tr>\n",
              "        <tr>\n",
              "            <td>ARKANSAS</td>\n",
              "            <td>6.0</td>\n",
              "            <td>2978204.0</td>\n",
              "            <td>2.0146370094190997e-06</td>\n",
              "        </tr>\n",
              "        <tr>\n",
              "            <td>MISSISSIPPI</td>\n",
              "            <td>6.0</td>\n",
              "            <td>2992333.0</td>\n",
              "            <td>2.00512442966742e-06</td>\n",
              "        </tr>\n",
              "        <tr>\n",
              "            <td>UTAH</td>\n",
              "            <td>6.0</td>\n",
              "            <td>2995919.0</td>\n",
              "            <td>2.0027243727216926e-06</td>\n",
              "        </tr>\n",
              "        <tr>\n",
              "            <td>CONNECTICUT</td>\n",
              "            <td>7.0</td>\n",
              "            <td>3590886.0</td>\n",
              "            <td>1.949379623858847e-06</td>\n",
              "        </tr>\n",
              "        <tr>\n",
              "            <td>IOWA</td>\n",
              "            <td>6.0</td>\n",
              "            <td>3123899.0</td>\n",
              "            <td>1.9206766928124116e-06</td>\n",
              "        </tr>\n",
              "        <tr>\n",
              "            <td>ALABAMA</td>\n",
              "            <td>9.0</td>\n",
              "            <td>4858979.0</td>\n",
              "            <td>1.8522409749043987e-06</td>\n",
              "        </tr>\n",
              "        <tr>\n",
              "            <td>SOUTH CAROLINA</td>\n",
              "            <td>9.0</td>\n",
              "            <td>4896146.0</td>\n",
              "            <td>1.8381804790951905e-06</td>\n",
              "        </tr>\n",
              "        <tr>\n",
              "            <td>MINNESOTA</td>\n",
              "            <td>10.0</td>\n",
              "            <td>5489594.0</td>\n",
              "            <td>1.8216283389992047e-06</td>\n",
              "        </tr>\n",
              "        <tr>\n",
              "            <td>KENTUCKY</td>\n",
              "            <td>8.0</td>\n",
              "            <td>4425092.0</td>\n",
              "            <td>1.8078720171241637e-06</td>\n",
              "        </tr>\n",
              "        <tr>\n",
              "            <td>OKLAHOMA</td>\n",
              "            <td>7.0</td>\n",
              "            <td>3911338.0</td>\n",
              "            <td>1.7896689061390246e-06</td>\n",
              "        </tr>\n",
              "        <tr>\n",
              "            <td>OREGON</td>\n",
              "            <td>7.0</td>\n",
              "            <td>4028977.0</td>\n",
              "            <td>1.7374137405103083e-06</td>\n",
              "        </tr>\n",
              "        <tr>\n",
              "            <td>WISCONSIN</td>\n",
              "            <td>10.0</td>\n",
              "            <td>5771337.0</td>\n",
              "            <td>1.7327007589402595e-06</td>\n",
              "        </tr>\n",
              "        <tr>\n",
              "            <td>LOUISIANA</td>\n",
              "            <td>8.0</td>\n",
              "            <td>4670724.0</td>\n",
              "            <td>1.712796560019389e-06</td>\n",
              "        </tr>\n",
              "        <tr>\n",
              "            <td>WASHINGTON</td>\n",
              "            <td>12.0</td>\n",
              "            <td>7170351.0</td>\n",
              "            <td>1.673558240035948e-06</td>\n",
              "        </tr>\n",
              "        <tr>\n",
              "            <td>TENNESSEE</td>\n",
              "            <td>11.0</td>\n",
              "            <td>6600299.0</td>\n",
              "            <td>1.6665911650366142e-06</td>\n",
              "        </tr>\n",
              "        <tr>\n",
              "            <td>MARYLAND</td>\n",
              "            <td>10.0</td>\n",
              "            <td>6006401.0</td>\n",
              "            <td>1.6648905059785385e-06</td>\n",
              "        </tr>\n",
              "        <tr>\n",
              "            <td>INDIANA</td>\n",
              "            <td>11.0</td>\n",
              "            <td>6619680.0</td>\n",
              "            <td>1.6617117443743504e-06</td>\n",
              "        </tr>\n",
              "        <tr>\n",
              "            <td>COLORADO</td>\n",
              "            <td>9.0</td>\n",
              "            <td>5456574.0</td>\n",
              "            <td>1.6493865931260165e-06</td>\n",
              "        </tr>\n",
              "        <tr>\n",
              "            <td>MISSOURI</td>\n",
              "            <td>10.0</td>\n",
              "            <td>6083672.0</td>\n",
              "            <td>1.6437441071773757e-06</td>\n",
              "        </tr>\n",
              "        <tr>\n",
              "            <td>MASSACHUSETTS</td>\n",
              "            <td>11.0</td>\n",
              "            <td>6794422.0</td>\n",
              "            <td>1.6189750945702225e-06</td>\n",
              "        </tr>\n",
              "        <tr>\n",
              "            <td>MICHIGAN</td>\n",
              "            <td>16.0</td>\n",
              "            <td>9922576.0</td>\n",
              "            <td>1.6124844999927438e-06</td>\n",
              "        </tr>\n",
              "        <tr>\n",
              "            <td>ARIZONA</td>\n",
              "            <td>11.0</td>\n",
              "            <td>6828065.0</td>\n",
              "            <td>1.610998137832607e-06</td>\n",
              "        </tr>\n",
              "        <tr>\n",
              "            <td>GEORGIA</td>\n",
              "            <td>16.0</td>\n",
              "            <td>10214860.0</td>\n",
              "            <td>1.566345500574653e-06</td>\n",
              "        </tr>\n",
              "        <tr>\n",
              "            <td>NEW JERSEY</td>\n",
              "            <td>14.0</td>\n",
              "            <td>8958013.0</td>\n",
              "            <td>1.562846582160575e-06</td>\n",
              "        </tr>\n",
              "        <tr>\n",
              "            <td>PENNSYLVANIA</td>\n",
              "            <td>20.0</td>\n",
              "            <td>12802503.0</td>\n",
              "            <td>1.562194517743913e-06</td>\n",
              "        </tr>\n",
              "        <tr>\n",
              "            <td>ILLINOIS</td>\n",
              "            <td>20.0</td>\n",
              "            <td>12859995.0</td>\n",
              "            <td>1.5552105580134362e-06</td>\n",
              "        </tr>\n",
              "        <tr>\n",
              "            <td>VIRGINIA</td>\n",
              "            <td>13.0</td>\n",
              "            <td>8382993.0</td>\n",
              "            <td>1.5507587803067473e-06</td>\n",
              "        </tr>\n",
              "        <tr>\n",
              "            <td>OHIO</td>\n",
              "            <td>18.0</td>\n",
              "            <td>11613423.0</td>\n",
              "            <td>1.5499306276883225e-06</td>\n",
              "        </tr>\n",
              "        <tr>\n",
              "            <td>NORTH CAROLINA</td>\n",
              "            <td>15.0</td>\n",
              "            <td>10042802.0</td>\n",
              "            <td>1.4936070630487388e-06</td>\n",
              "        </tr>\n",
              "        <tr>\n",
              "            <td>NEW YORK</td>\n",
              "            <td>29.0</td>\n",
              "            <td>19795791.0</td>\n",
              "            <td>1.4649578791774474e-06</td>\n",
              "        </tr>\n",
              "        <tr>\n",
              "            <td>FLORIDA</td>\n",
              "            <td>29.0</td>\n",
              "            <td>20271272.0</td>\n",
              "            <td>1.4305959685213637e-06</td>\n",
              "        </tr>\n",
              "        <tr>\n",
              "            <td>CALIFORNIA</td>\n",
              "            <td>55.0</td>\n",
              "            <td>39144818.0</td>\n",
              "            <td>1.4050391037710278e-06</td>\n",
              "        </tr>\n",
              "        <tr>\n",
              "            <td>TEXAS</td>\n",
              "            <td>38.0</td>\n",
              "            <td>27469114.0</td>\n",
              "            <td>1.3833718845099992e-06</td>\n",
              "        </tr>\n",
              "    </tbody>\n",
              "</table>"
            ],
            "text/plain": [
              "[('WYOMING', 3.0, 586107.0, 5.118519314732634e-06),\n",
              " ('VERMONT', 3.0, 626042.0, 4.792010759661493e-06),\n",
              " ('DC', 3.0, 672228.0, 4.462771559649405e-06),\n",
              " ('ALASKA', 3.0, 738432.0, 4.0626625065002604e-06),\n",
              " ('NORTH DAKOTA', 3.0, 756927.0, 3.963394092164766e-06),\n",
              " ('RHODE ISLAND', 4.0, 1056298.0, 3.7868101615263876e-06),\n",
              " ('SOUTH DAKOTA', 3.0, 858469.0, 3.4945932817609025e-06),\n",
              " ('DELAWARE', 3.0, 945934.0, 3.1714686225466047e-06),\n",
              " ('MAINE', 4.0, 1329328.0, 3.009039153617467e-06),\n",
              " ('NEW HAMPSHIRE', 4.0, 1330608.0, 3.0061445594795764e-06),\n",
              " ('MONTANA', 3.0, 1032949.0, 2.904306020916812e-06),\n",
              " ('HAWAII', 4.0, 1431603.0, 2.794070702562093e-06),\n",
              " ('WEST VIRGINIA', 5.0, 1844128.0, 2.7113085425740512e-06),\n",
              " ('NEBRASKA', 5.0, 1896190.0, 2.636866558730929e-06),\n",
              " ('IDAHO', 4.0, 1654930.0, 2.417020659484087e-06),\n",
              " ('NEW MEXICO', 5.0, 2085109.0, 2.3979561739937817e-06),\n",
              " ('NEVADA', 6.0, 2890845.0, 2.0755177119492743e-06),\n",
              " ('KANSAS', 6.0, 2911641.0, 2.0606936088618066e-06),\n",
              " ('ARKANSAS', 6.0, 2978204.0, 2.0146370094190997e-06),\n",
              " ('MISSISSIPPI', 6.0, 2992333.0, 2.00512442966742e-06),\n",
              " ('UTAH', 6.0, 2995919.0, 2.0027243727216926e-06),\n",
              " ('CONNECTICUT', 7.0, 3590886.0, 1.949379623858847e-06),\n",
              " ('IOWA', 6.0, 3123899.0, 1.9206766928124116e-06),\n",
              " ('ALABAMA', 9.0, 4858979.0, 1.8522409749043987e-06),\n",
              " ('SOUTH CAROLINA', 9.0, 4896146.0, 1.8381804790951905e-06),\n",
              " ('MINNESOTA', 10.0, 5489594.0, 1.8216283389992047e-06),\n",
              " ('KENTUCKY', 8.0, 4425092.0, 1.8078720171241637e-06),\n",
              " ('OKLAHOMA', 7.0, 3911338.0, 1.7896689061390246e-06),\n",
              " ('OREGON', 7.0, 4028977.0, 1.7374137405103083e-06),\n",
              " ('WISCONSIN', 10.0, 5771337.0, 1.7327007589402595e-06),\n",
              " ('LOUISIANA', 8.0, 4670724.0, 1.712796560019389e-06),\n",
              " ('WASHINGTON', 12.0, 7170351.0, 1.673558240035948e-06),\n",
              " ('TENNESSEE', 11.0, 6600299.0, 1.6665911650366142e-06),\n",
              " ('MARYLAND', 10.0, 6006401.0, 1.6648905059785385e-06),\n",
              " ('INDIANA', 11.0, 6619680.0, 1.6617117443743504e-06),\n",
              " ('COLORADO', 9.0, 5456574.0, 1.6493865931260165e-06),\n",
              " ('MISSOURI', 10.0, 6083672.0, 1.6437441071773757e-06),\n",
              " ('MASSACHUSETTS', 11.0, 6794422.0, 1.6189750945702225e-06),\n",
              " ('MICHIGAN', 16.0, 9922576.0, 1.6124844999927438e-06),\n",
              " ('ARIZONA', 11.0, 6828065.0, 1.610998137832607e-06),\n",
              " ('GEORGIA', 16.0, 10214860.0, 1.566345500574653e-06),\n",
              " ('NEW JERSEY', 14.0, 8958013.0, 1.562846582160575e-06),\n",
              " ('PENNSYLVANIA', 20.0, 12802503.0, 1.562194517743913e-06),\n",
              " ('ILLINOIS', 20.0, 12859995.0, 1.5552105580134362e-06),\n",
              " ('VIRGINIA', 13.0, 8382993.0, 1.5507587803067473e-06),\n",
              " ('OHIO', 18.0, 11613423.0, 1.5499306276883225e-06),\n",
              " ('NORTH CAROLINA', 15.0, 10042802.0, 1.4936070630487388e-06),\n",
              " ('NEW YORK', 29.0, 19795791.0, 1.4649578791774474e-06),\n",
              " ('FLORIDA', 29.0, 20271272.0, 1.4305959685213637e-06),\n",
              " ('CALIFORNIA', 55.0, 39144818.0, 1.4050391037710278e-06),\n",
              " ('TEXAS', 38.0, 27469114.0, 1.3833718845099992e-06)]"
            ]
          },
          "metadata": {
            "tags": []
          },
          "execution_count": 20
        }
      ]
    },
    {
      "cell_type": "code",
      "metadata": {
        "colab": {
          "base_uri": "https://localhost:8080/"
        },
        "id": "z2BvZitO74fW",
        "outputId": "00c644fb-182b-4a56-dcf3-5d5cd4e031a6"
      },
      "source": [
        "#To find running sum of Grand electors\n",
        "%%sql\n",
        "SELECT State, Grandelectors, Population, Ratio, SUM(Grandelectors) OVER (PARTITION BY State, Grandelectors) AS Running_grandelectors \n",
        "FROM Joined"
      ],
      "execution_count": null,
      "outputs": [
        {
          "output_type": "stream",
          "text": [
            " * sqlite://\n",
            "(sqlite3.OperationalError) near \"(\": syntax error\n",
            "[SQL: SELECT State, Grandelectors, Population, Ratio, SUM(Grandelectors) OVER (PARTITION BY State, Grandelectors) AS Running_grandelectors \n",
            "FROM Joined]\n",
            "(Background on this error at: http://sqlalche.me/e/14/e3q8)\n"
          ],
          "name": "stdout"
        }
      ]
    },
    {
      "cell_type": "code",
      "metadata": {
        "colab": {
          "base_uri": "https://localhost:8080/",
          "height": 95
        },
        "id": "BPhSlri5-6Np",
        "outputId": "0bf9939b-e0ff-4d31-b422-1115cbdb4f27"
      },
      "source": [
        "#To compute half of the grand electors total\n",
        "%%sql\n",
        "SELECT SUM(Grandelectors)/2 FROM Joined"
      ],
      "execution_count": null,
      "outputs": [
        {
          "output_type": "stream",
          "text": [
            " * sqlite://\n",
            "Done.\n"
          ],
          "name": "stdout"
        },
        {
          "output_type": "execute_result",
          "data": {
            "text/html": [
              "<table>\n",
              "    <thead>\n",
              "        <tr>\n",
              "            <th>SUM(Grandelectors)/2</th>\n",
              "        </tr>\n",
              "    </thead>\n",
              "    <tbody>\n",
              "        <tr>\n",
              "            <td>269.0</td>\n",
              "        </tr>\n",
              "    </tbody>\n",
              "</table>"
            ],
            "text/plain": [
              "[(269.0,)]"
            ]
          },
          "metadata": {
            "tags": []
          },
          "execution_count": 23
        }
      ]
    },
    {
      "cell_type": "code",
      "metadata": {
        "id": "rn97vW2x4eAi"
      },
      "source": [
        ""
      ],
      "execution_count": null,
      "outputs": []
    }
  ]
}
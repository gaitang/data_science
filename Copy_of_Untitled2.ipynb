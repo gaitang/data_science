{
  "nbformat": 4,
  "nbformat_minor": 0,
  "metadata": {
    "colab": {
      "name": "Copy of Untitled2.ipynb",
      "provenance": [],
      "authorship_tag": "ABX9TyO3qqhQP9Ok0MtZezd8MY0V",
      "include_colab_link": true
    },
    "kernelspec": {
      "name": "python3",
      "display_name": "Python 3"
    },
    "language_info": {
      "name": "python"
    }
  },
  "cells": [
    {
      "cell_type": "markdown",
      "metadata": {
        "id": "view-in-github",
        "colab_type": "text"
      },
      "source": [
        "<a href=\"https://colab.research.google.com/github/gaitang/data_science/blob/master/Copy_of_Untitled2.ipynb\" target=\"_parent\"><img src=\"https://colab.research.google.com/assets/colab-badge.svg\" alt=\"Open In Colab\"/></a>"
      ]
    },
    {
      "cell_type": "code",
      "metadata": {
        "colab": {
          "base_uri": "https://localhost:8080/"
        },
        "id": "taOJLY05VJNT",
        "outputId": "7e9b3a52-8248-424f-9ce0-75b76a956995"
      },
      "source": [
        "contact_book = {'Parul' : 'parul@moringa.org',\n",
        "\n",
        "        'Thomas' : 'thomas@moringa.org',\n",
        "\n",
        "        'Ashley' : 'ashley@moringa.org',\n",
        "\n",
        "        'Kellen' : 'kellen@moringa.org',\n",
        "\n",
        "        'June' : 'june@moringa.org',\n",
        "\n",
        "        'Joseph' : 'joe@moringa.org',\n",
        "\n",
        "        'Lillian' : 'lillian@moringa.org',\n",
        "\n",
        "        'Arnold' : 'arnold@moringa.org' \n",
        "}\n",
        "#First is to delete a contact from the dictionary when the user specifies the key\n",
        "#we first print out the dictionary to see all the keys and elements.\n",
        "print(contact_book)\n",
        "#next we tell the user to enter the key or in this case name they want to delete and we delete it from the dictionary then print out the new dictionary\n",
        "x=str (input('What key do you want to delete? '))\n",
        "contact_book.pop(x) \n",
        "print(contact_book)\n",
        "#Secondly we are to print out the first two contacts\n",
        "first2=list (contact_book.items())[:2]\n",
        "print(first2)\n",
        "#Total number of contacts in dictionary\n",
        "print('The total number of contacts is:'+ str (l))\n",
        "\n",
        "#Adding 2 new contacts\n",
        "n1=input(\"Enter the name of a new contact to add:\")\n",
        "email1=input('Enter their email account:')\n",
        "n2=input('Enter the name of a second contact to add:')\n",
        "email2=input('Enter their email account:')\n",
        "contact_book[n1] = email1;\n",
        "contact_book[n2] = email2;\n",
        "#printing out the contact book with the two new names added\n",
        "print(contact_book)\n",
        "  "
      ],
      "execution_count": null,
      "outputs": [
        {
          "output_type": "stream",
          "text": [
            "{'Parul': 'parul@moringa.org', 'Thomas': 'thomas@moringa.org', 'Ashley': 'ashley@moringa.org', 'Kellen': 'kellen@moringa.org', 'June': 'june@moringa.org', 'Joseph': 'joe@moringa.org', 'Lillian': 'lillian@moringa.org', 'Arnold': 'arnold@moringa.org'}\n",
            "What key do you want to delete? Thomas\n",
            "{'Parul': 'parul@moringa.org', 'Ashley': 'ashley@moringa.org', 'Kellen': 'kellen@moringa.org', 'June': 'june@moringa.org', 'Joseph': 'joe@moringa.org', 'Lillian': 'lillian@moringa.org', 'Arnold': 'arnold@moringa.org'}\n",
            "[('Parul', 'parul@moringa.org'), ('Ashley', 'ashley@moringa.org')]\n",
            "The total number of contacts is:7\n",
            "Enter the name of a new contact to add:Tim\n",
            "Enter their email account:tim@moringa.org\n",
            "Enter the name of a second contact to add:Tom\n",
            "Enter their email account:Tom@moringa.org\n",
            "{'Parul': 'parul@moringa.org', 'Ashley': 'ashley@moringa.org', 'Kellen': 'kellen@moringa.org', 'June': 'june@moringa.org', 'Joseph': 'joe@moringa.org', 'Lillian': 'lillian@moringa.org', 'Arnold': 'arnold@moringa.org', 'Tim': 'tim@moringa.org', 'Tom': 'Tom@moringa.org'}\n"
          ],
          "name": "stdout"
        }
      ]
    }
  ]
}